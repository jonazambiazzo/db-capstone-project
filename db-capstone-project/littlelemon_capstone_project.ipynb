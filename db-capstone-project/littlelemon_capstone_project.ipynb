{
 "cells": [
  {
   "cell_type": "code",
   "execution_count": 1,
   "id": "1bdf2a47-5f2b-4310-b1ca-d9697dd92672",
   "metadata": {},
   "outputs": [],
   "source": [
    "# Import MySQL Connector/Python \n",
    "import mysql.connector as connector"
   ]
  },
  {
   "cell_type": "code",
   "execution_count": 3,
   "id": "84338777-8618-48dc-a6bf-7d03274dbfbf",
   "metadata": {},
   "outputs": [],
   "source": [
    "connection = connector.connect(user = \"admin1\", password = \"admin1\", db=\"littlelemondm\")"
   ]
  },
  {
   "cell_type": "code",
   "execution_count": 4,
   "id": "1f730fda-4970-4427-b3dd-05b9119052ca",
   "metadata": {},
   "outputs": [],
   "source": [
    "cursor = connection.cursor()"
   ]
  },
  {
   "cell_type": "code",
   "execution_count": 5,
   "id": "ef233501-c4c6-432c-b9e0-fc11e25cc288",
   "metadata": {},
   "outputs": [],
   "source": [
    "show_tables_query = \"SHOW tables\" \n",
    "cursor.execute(show_tables_query)"
   ]
  },
  {
   "cell_type": "code",
   "execution_count": 6,
   "id": "5f5461ed-fa7e-44f6-9a24-b99ffd0e531a",
   "metadata": {},
   "outputs": [
    {
     "name": "stdout",
     "output_type": "stream",
     "text": [
      "[('bookings',), ('customers',), ('deliveries',), ('menu',), ('menu_items',), ('orders',), ('ordersview',), ('staff',)]\n"
     ]
    }
   ],
   "source": [
    "results = cursor.fetchall()\n",
    "print(results)"
   ]
  },
  {
   "cell_type": "code",
   "execution_count": 7,
   "id": "53c74c9d-f861-4360-87c2-2ff0fb130560",
   "metadata": {},
   "outputs": [],
   "source": [
    "join_query = \"\"\" SELECT c.customer_name, c.customer_email \n",
    "    FROM customers c\n",
    "    INNER JOIN orders o \n",
    "    ON c.customer_id = o.customer_id \n",
    "    WHERE total_cost > 60 \"\"\"\n",
    "\n",
    "cursor.execute(join_query)"
   ]
  },
  {
   "cell_type": "code",
   "execution_count": 8,
   "id": "77b4fc63-179b-4fe0-aced-c3e3a06e35f2",
   "metadata": {},
   "outputs": [
    {
     "name": "stdout",
     "output_type": "stream",
     "text": [
      "[('Britney Spears', 'britney@spears.com')]\n"
     ]
    }
   ],
   "source": [
    "join_results = cursor.fetchall()\n",
    "print(join_results)"
   ]
  },
  {
   "cell_type": "code",
   "execution_count": null,
   "id": "c7873ac2-78f5-4eb1-a4d3-5d35375e8624",
   "metadata": {},
   "outputs": [],
   "source": []
  }
 ],
 "metadata": {
  "kernelspec": {
   "display_name": "Python 3 (ipykernel)",
   "language": "python",
   "name": "python3"
  },
  "language_info": {
   "codemirror_mode": {
    "name": "ipython",
    "version": 3
   },
   "file_extension": ".py",
   "mimetype": "text/x-python",
   "name": "python",
   "nbconvert_exporter": "python",
   "pygments_lexer": "ipython3",
   "version": "3.11.4"
  }
 },
 "nbformat": 4,
 "nbformat_minor": 5
}
